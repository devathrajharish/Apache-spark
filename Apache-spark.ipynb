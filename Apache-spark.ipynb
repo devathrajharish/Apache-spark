{
 "cells": [
  {
   "cell_type": "code",
   "execution_count": 1,
   "metadata": {},
   "outputs": [],
   "source": [
    "import findspark\n",
    "import os\n",
    "import configparser\n",
    "findspark.init()\n",
    "from pyspark.context import SparkContext\n",
    "from pyspark.sql import SparkSession\n",
    "from pyspark.sql.functions import lit\n",
    "from functools import reduce\n",
    "from pyspark.sql import DataFrame\n",
    "import pymongo"
   ]
  },
  {
   "cell_type": "code",
   "execution_count": 2,
   "metadata": {},
   "outputs": [],
   "source": []
  },
  {
   "cell_type": "code",
   "execution_count": 2,
   "metadata": {},
   "outputs": [],
   "source": [
    "from pyspark import SparkConf, SparkContext\n",
    "conf = (SparkConf()\n",
    "         .setMaster(\"local\")\n",
    "         .setAppName(\"My app\")\n",
    "         .set(\"spark.executor.memory\", \"1g\"))\n",
    "sc = SparkContext(conf = conf)"
   ]
  },
  {
   "cell_type": "code",
   "execution_count": 3,
   "metadata": {},
   "outputs": [],
   "source": [
    "newRDD = sc.parallelize([1,2,3,4,5])"
   ]
  },
  {
   "cell_type": "code",
   "execution_count": 5,
   "metadata": {},
   "outputs": [
    {
     "data": {
      "text/plain": [
       "5"
      ]
     },
     "execution_count": 5,
     "metadata": {},
     "output_type": "execute_result"
    }
   ],
   "source": [
    "newRDD.count()"
   ]
  },
  {
   "cell_type": "code",
   "execution_count": 6,
   "metadata": {},
   "outputs": [],
   "source": [
    "newRDD1 = sc.textFile(\"auto-data.csv\")"
   ]
  },
  {
   "cell_type": "code",
   "execution_count": 7,
   "metadata": {},
   "outputs": [
    {
     "data": {
      "text/plain": [
       "198"
      ]
     },
     "execution_count": 7,
     "metadata": {},
     "output_type": "execute_result"
    }
   ],
   "source": [
    "newRDD1.count()"
   ]
  },
  {
   "cell_type": "code",
   "execution_count": 9,
   "metadata": {},
   "outputs": [
    {
     "data": {
      "text/plain": [
       "auto-data.csv MapPartitionsRDD[4] at textFile at NativeMethodAccessorImpl.java:0"
      ]
     },
     "execution_count": 9,
     "metadata": {},
     "output_type": "execute_result"
    }
   ],
   "source": [
    "newRDD1.cache()"
   ]
  },
  {
   "cell_type": "code",
   "execution_count": 10,
   "metadata": {},
   "outputs": [
    {
     "name": "stdout",
     "output_type": "stream",
     "text": [
      "MAKE,FUELTYPE,ASPIRE,DOORS,BODY,DRIVE,CYLINDERS,HP,RPM,MPG-CITY,MPG-HWY,PRICE\n",
      "subaru,gas,std,two,hatchback,fwd,four,69,4900,31,36,5118\n",
      "chevrolet,gas,std,two,hatchback,fwd,three,48,5100,47,53,5151\n",
      "mazda,gas,std,two,hatchback,fwd,four,68,5000,30,31,5195\n",
      "toyota,gas,std,two,hatchback,fwd,four,62,4800,35,39,5348\n",
      "mitsubishi,gas,std,two,hatchback,fwd,four,68,5500,37,41,5389\n",
      "honda,gas,std,two,hatchback,fwd,four,60,5500,38,42,5399\n",
      "nissan,gas,std,two,sedan,fwd,four,69,5200,31,37,5499\n",
      "dodge,gas,std,two,hatchback,fwd,four,68,5500,37,41,5572\n",
      "plymouth,gas,std,two,hatchback,fwd,four,68,5500,37,41,5572\n",
      "mazda,gas,std,two,hatchback,fwd,four,68,5000,31,38,6095\n",
      "mitsubishi,gas,std,two,hatchback,fwd,four,68,5500,31,38,6189\n",
      "dodge,gas,std,four,hatchback,fwd,four,68,5500,31,38,6229\n",
      "plymouth,gas,std,four,hatchback,fwd,four,68,5500,31,38,6229\n",
      "chevrolet,gas,std,two,hatchback,fwd,four,70,5400,38,43,6295\n",
      "toyota,gas,std,two,hatchback,fwd,four,62,4800,31,38,6338\n",
      "dodge,gas,std,two,hatchback,fwd,four,68,5500,31,38,6377\n",
      "honda,gas,std,two,hatchback,fwd,four,58,4800,49,54,6479\n",
      "toyota,gas,std,four,hatchback,fwd,four,62,4800,31,38,6488\n",
      "honda,gas,std,two,hatchback,fwd,four,76,6000,30,34,6529\n",
      "chevrolet,gas,std,four,sedan,fwd,four,70,5400,38,43,6575\n",
      "nissan,gas,std,two,sedan,fwd,four,69,5200,31,37,6649\n",
      "mitsubishi,gas,std,two,hatchback,fwd,four,68,5500,31,38,6669\n",
      "dodge,gas,std,four,sedan,fwd,four,68,5500,31,38,6692\n",
      "plymouth,gas,std,four,sedan,fwd,four,68,5500,31,38,6692\n",
      "mazda,gas,std,four,sedan,fwd,four,68,5000,31,38,6695\n",
      "isuzu,gas,std,four,sedan,rwd,four,78,4800,24,29,6785\n",
      "mazda,gas,std,two,hatchback,fwd,four,68,5000,31,38,6795\n",
      "nissan,gas,std,four,sedan,fwd,four,69,5200,31,37,6849\n",
      "honda,gas,std,two,hatchback,fwd,four,76,6000,31,38,6855\n",
      "toyota,gas,std,four,wagon,fwd,four,62,4800,31,37,6918\n",
      "toyota,gas,std,four,sedan,fwd,four,70,4800,30,37,6938\n",
      "mitsubishi,gas,std,four,sedan,fwd,four,88,5000,25,32,6989\n",
      "subaru,gas,std,two,hatchback,fwd,four,73,4400,26,31,7053\n",
      "nissan,diesel,std,two,sedan,fwd,four,55,4800,45,50,7099\n",
      "subaru,gas,std,four,sedan,fwd,four,82,4800,32,37,7126\n",
      "honda,gas,std,two,hatchback,fwd,four,76,6000,30,34,7129\n",
      "toyota,gas,std,four,hatchback,fwd,four,70,4800,30,37,7198\n",
      "honda,gas,std,four,sedan,fwd,four,76,6000,30,34,7295\n",
      "honda,gas,std,four,wagon,fwd,four,76,6000,30,34,7295\n",
      "nissan,gas,std,two,sedan,fwd,four,69,5200,31,37,7299\n",
      "nissan,gas,std,four,wagon,fwd,four,69,5200,31,37,7349\n",
      "mazda,gas,std,four,sedan,fwd,four,68,5000,31,38,7395\n",
      "subaru,gas,std,four,wagon,fwd,four,82,4800,28,32,7463\n",
      "nissan,gas,std,four,sedan,fwd,four,69,5200,31,37,7499\n",
      "subaru,gas,std,two,hatchback,4wd,four,73,4400,26,31,7603\n",
      "dodge,gas,std,four,sedan,fwd,four,68,5500,31,38,7609\n",
      "plymouth,gas,std,four,sedan,fwd,four,68,5500,31,38,7609\n",
      "mitsubishi,gas,turbo,two,hatchback,fwd,four,102,5500,24,30,7689\n",
      "toyota,gas,std,four,sedan,fwd,four,70,4800,38,47,7738\n",
      "subaru,gas,std,four,sedan,fwd,four,82,4400,28,33,7775\n",
      "volkswagen,diesel,std,two,sedan,fwd,four,52,4800,37,46,7775\n",
      "toyota,diesel,std,four,hatchback,fwd,four,56,4500,38,47,7788\n",
      "nissan,gas,std,two,hatchback,fwd,four,69,5200,31,37,7799\n",
      "honda,gas,std,two,hatchback,fwd,four,86,5800,27,33,7895\n",
      "toyota,gas,std,four,wagon,4wd,four,62,4800,27,32,7898\n",
      "toyota,diesel,std,four,sedan,fwd,four,56,4500,34,36,7898\n",
      "dodge,gas,turbo,two,hatchback,fwd,four,102,5500,24,30,7957\n",
      "plymouth,gas,turbo,two,hatchback,fwd,four,102,5500,24,30,7957\n",
      "volkswagen,gas,std,two,sedan,fwd,four,85,5250,27,34,7975\n",
      "volkswagen,diesel,std,four,sedan,fwd,four,52,4800,37,46,7995\n",
      "nissan,gas,std,four,wagon,fwd,four,69,5200,31,37,7999\n",
      "subaru,gas,std,four,wagon,4wd,four,82,4800,23,29,8013\n",
      "toyota,gas,std,two,sedan,rwd,four,70,4800,29,34,8058\n",
      "mitsubishi,gas,std,four,sedan,fwd,four,88,5000,25,32,8189\n",
      "volkswagen,gas,std,four,sedan,fwd,four,85,5250,27,34,8195\n",
      "toyota,gas,std,two,hatchback,rwd,four,70,4800,29,34,8238\n",
      "nissan,gas,std,two,hardtop,fwd,four,69,5200,31,37,8249\n",
      "toyota,gas,std,four,hatchback,fwd,four,70,4800,28,34,8358\n",
      "toyota,gas,std,two,hardtop,rwd,four,116,4800,24,30,8449\n",
      "mazda,gas,std,four,sedan,fwd,four,84,4800,26,32,8495\n",
      "volkswagen,gas,std,four,sedan,fwd,four,85,5250,27,34,8495\n",
      "mitsubishi,gas,std,two,hatchback,fwd,four,88,5000,25,32,8499\n",
      "toyota,gas,std,four,wagon,4wd,four,62,4800,27,32,8778\n",
      "honda,gas,std,four,sedan,fwd,four,86,5800,27,33,8845\n",
      "mazda,gas,std,two,hatchback,fwd,four,84,4800,26,32,8845\n",
      "dodge,gas,std,four,wagon,fwd,four,88,5000,24,30,8921\n",
      "plymouth,gas,std,four,wagon,fwd,four,88,5000,24,30,8921\n",
      "toyota,gas,std,four,sedan,fwd,four,92,4200,29,34,8948\n",
      "nissan,gas,std,four,hatchback,fwd,four,97,5200,27,34,8949\n",
      "honda,gas,std,two,hatchback,fwd,four,86,5800,27,33,9095\n",
      "subaru,gas,std,four,sedan,4wd,four,82,4800,24,25,9233\n",
      "toyota,gas,std,four,sedan,fwd,four,70,4800,28,34,9258\n",
      "mitsubishi,gas,turbo,four,sedan,fwd,four,116,5500,23,30,9279\n",
      "mitsubishi,gas,std,four,sedan,fwd,four,116,5500,23,30,9279\n",
      "toyota,gas,std,two,sedan,rwd,four,112,6600,26,29,9298\n",
      "volkswagen,diesel,turbo,four,sedan,fwd,four,68,4500,37,42,9495\n",
      "toyota,gas,std,two,hatchback,rwd,four,112,6600,26,29,9538\n",
      "nissan,gas,std,four,sedan,fwd,four,97,5200,27,34,9549\n",
      "toyota,gas,std,two,hardtop,rwd,four,116,4800,24,30,9639\n",
      "mitsubishi,gas,turbo,two,hatchback,fwd,four,116,5500,23,30,9959\n",
      "subaru,gas,std,four,sedan,fwd,four,94,5200,26,32,9960\n",
      "volkswagen,gas,std,two,hatchback,fwd,four,90,5500,24,29,9980\n",
      "toyota,gas,std,four,hatchback,fwd,four,92,4200,27,32,9988\n",
      "toyota,gas,std,two,hatchback,rwd,four,116,4800,24,30,9989\n",
      "volkswagen,gas,std,four,sedan,fwd,four,100,5500,26,32,9995\n",
      "subaru,gas,std,four,wagon,fwd,four,94,5200,25,31,10198\n",
      "mazda,gas,std,four,sedan,fwd,four,84,4800,26,32,10245\n",
      "honda,gas,std,four,sedan,fwd,four,86,5800,27,33,10295\n",
      "honda,gas,std,two,sedan,fwd,four,100,5500,25,31,10345\n",
      "mazda,gas,std,two,hatchback,fwd,four,84,4800,26,32,10595\n",
      "toyota,diesel,turbo,four,sedan,fwd,four,73,4500,30,33,10698\n",
      "toyota,gas,std,four,sedan,fwd,four,92,4200,27,32,10898\n",
      "mazda,gas,std,two,hatchback,rwd,two,101,6000,17,23,10945\n",
      "isuzu,gas,std,two,hatchback,rwd,four,90,5000,24,29,11048\n",
      "toyota,gas,std,two,hardtop,rwd,four,116,4800,24,30,11199\n",
      "mazda,gas,std,four,hatchback,fwd,four,84,4800,26,32,11245\n",
      "toyota,gas,std,four,hatchback,fwd,four,92,4200,27,32,11248\n",
      "subaru,gas,turbo,four,sedan,4wd,four,111,4800,24,29,11259\n",
      "toyota,gas,std,two,hatchback,rwd,four,116,4800,24,30,11549\n",
      "volkswagen,gas,std,two,convertible,fwd,four,90,5500,24,29,11595\n",
      "subaru,gas,turbo,four,wagon,4wd,four,111,4800,23,23,11694\n",
      "mazda,gas,std,two,hatchback,rwd,two,101,6000,17,23,11845\n",
      "saab,gas,std,two,hatchback,fwd,four,110,5250,21,28,11850\n",
      "peugot,gas,std,four,sedan,rwd,four,97,5000,19,24,11900\n",
      "saab,gas,std,four,sedan,fwd,four,110,5250,21,28,12170\n",
      "volkswagen,gas,std,four,wagon,fwd,four,88,5500,25,31,12290\n",
      "peugot,gas,std,four,wagon,rwd,four,97,5000,19,24,12440\n",
      "mitsubishi,gas,turbo,two,hatchback,fwd,four,145,5000,19,24,12629\n",
      "plymouth,gas,turbo,two,hatchback,rwd,four,145,5000,19,24,12764\n",
      "volvo,gas,std,four,sedan,rwd,four,114,5400,23,28,12940\n",
      "honda,gas,std,four,sedan,fwd,four,101,5800,24,28,12945\n",
      "dodge,gas,turbo,two,hatchback,fwd,four,145,5000,19,24,12964\n",
      "peugot,diesel,turbo,four,sedan,rwd,four,95,4150,28,33,13200\n",
      "volkswagen,gas,std,four,sedan,fwd,five,110,5500,19,24,13295\n",
      "volvo,gas,std,four,wagon,rwd,four,114,5400,23,28,13415\n",
      "alfa-romero,gas,std,two,convertible,rwd,four,111,5000,21,27,13495\n",
      "nissan,gas,std,four,sedan,fwd,six,152,5200,17,22,13499\n",
      "nissan,gas,std,four,sedan,fwd,six,152,5200,19,25,13499\n",
      "mazda,gas,std,two,hatchback,rwd,two,101,6000,17,23,13645\n",
      "volkswagen,diesel,turbo,four,sedan,fwd,four,68,4500,33,38,13845\n",
      "peugot,diesel,turbo,four,wagon,rwd,four,95,4150,25,25,13860\n",
      "audi,gas,std,four,sedan,fwd,four,102,5500,24,30,13950\n",
      "nissan,gas,std,four,wagon,fwd,six,152,5200,17,22,14399\n",
      "mitsubishi,gas,turbo,two,hatchback,fwd,four,145,5000,19,24,14489\n",
      "mitsubishi,gas,turbo,two,hatchback,fwd,four,145,5000,19,24,14869\n",
      "saab,gas,std,two,hatchback,fwd,four,110,5250,21,28,15040\n",
      "audi,gas,std,two,sedan,fwd,five,110,5500,19,25,15250\n",
      "saab,gas,std,four,sedan,fwd,four,110,5250,21,28,15510\n",
      "peugot,gas,std,four,sedan,rwd,four,95,5000,19,24,15580\n",
      "mazda,gas,std,two,hatchback,rwd,two,135,6000,16,23,15645\n",
      "toyota,gas,std,four,sedan,rwd,six,156,5200,20,24,15690\n",
      "toyota,gas,std,four,wagon,rwd,six,156,5200,19,24,15750\n",
      "volvo,gas,std,four,sedan,rwd,four,114,5400,24,28,15985\n",
      "toyota,gas,std,two,hatchback,rwd,six,161,5200,19,24,15998\n",
      "bmw,gas,std,two,sedan,rwd,four,101,5800,23,29,16430\n",
      "alfa-romero,gas,std,two,convertible,rwd,four,111,5000,21,27,16500\n",
      "alfa-romero,gas,std,two,hatchback,rwd,six,154,5000,19,26,16500\n",
      "mercury,gas,turbo,two,hatchback,rwd,four,175,5000,19,24,16503\n",
      "volvo,gas,std,four,wagon,rwd,four,114,5400,24,28,16515\n",
      "toyota,gas,std,two,hatchback,rwd,six,161,5200,20,24,16558\n",
      "peugot,gas,std,four,sedan,rwd,four,97,5000,19,24,16630\n",
      "peugot,gas,std,four,wagon,rwd,four,95,5000,19,24,16695\n",
      "volvo,gas,std,four,sedan,rwd,four,114,5400,23,28,16845\n",
      "peugot,diesel,turbo,four,sedan,rwd,four,95,4150,28,33,16900\n",
      "bmw,gas,std,four,sedan,rwd,four,101,5800,23,29,16925\n",
      "peugot,diesel,turbo,four,wagon,rwd,four,95,4150,25,25,17075\n",
      "nissan,gas,std,two,hatchback,rwd,six,160,5200,19,25,17199\n",
      "audi,gas,std,four,sedan,4wd,five,115,5500,18,22,17450\n",
      "toyota,gas,std,two,convertible,rwd,four,116,4800,24,30,17669\n",
      "audi,gas,std,four,sedan,fwd,five,110,5500,19,25,17710\n",
      "peugot,diesel,turbo,four,sedan,rwd,four,95,4150,28,33,17950\n",
      "peugot,gas,turbo,four,sedan,rwd,four,142,5600,18,24,18150\n",
      "saab,gas,turbo,two,hatchback,fwd,four,160,5500,19,26,18150\n",
      "mazda,gas,std,four,sedan,rwd,four,120,5000,19,27,18280\n",
      "mazda,diesel,std,four,sedan,rwd,four,72,4200,31,39,18344\n",
      "nissan,gas,std,two,hatchback,rwd,six,160,5200,19,25,18399\n",
      "volvo,gas,turbo,four,sedan,rwd,four,162,5100,17,22,18420\n",
      "saab,gas,turbo,four,sedan,fwd,four,160,5500,19,26,18620\n",
      "audi,gas,std,four,wagon,fwd,five,110,5500,19,25,18920\n",
      "volvo,gas,turbo,four,wagon,rwd,four,162,5100,17,22,18950\n",
      "volvo,gas,turbo,four,sedan,rwd,four,160,5300,19,25,19045\n",
      "nissan,gas,turbo,two,hatchback,rwd,six,200,5200,17,23,19699\n",
      "bmw,gas,std,two,sedan,rwd,six,121,4250,21,28,20970\n",
      "bmw,gas,std,four,sedan,rwd,six,121,4250,21,28,21105\n",
      "volvo,gas,std,four,sedan,rwd,six,134,5500,18,23,21485\n",
      "porsche,gas,std,two,hatchback,rwd,four,143,5500,19,27,22018\n",
      "volvo,diesel,turbo,four,sedan,rwd,six,106,4800,26,27,22470\n",
      "volvo,gas,turbo,four,sedan,rwd,four,114,5400,19,25,22625\n",
      "audi,gas,turbo,four,sedan,fwd,five,140,5500,17,20,23875\n",
      "bmw,gas,std,four,sedan,rwd,six,121,4250,20,25,24565\n",
      "mercedes-benz,diesel,turbo,four,sedan,rwd,five,123,4350,22,25,25552\n",
      "mercedes-benz,diesel,turbo,two,hardtop,rwd,five,123,4350,22,25,28176\n",
      "mercedes-benz,diesel,turbo,four,wagon,rwd,five,123,4350,22,25,28248\n",
      "bmw,gas,std,four,sedan,rwd,six,182,5400,16,22,30760\n",
      "mercedes-benz,diesel,turbo,four,sedan,rwd,five,123,4350,22,25,31600\n",
      "jaguar,gas,std,four,sedan,rwd,six,176,4750,15,19,32250\n",
      "porsche,gas,std,two,hardtop,rwd,six,207,5900,17,25,32528\n",
      "porsche,gas,std,two,hardtop,rwd,six,207,5900,17,25,34028\n",
      "mercedes-benz,gas,std,four,sedan,rwd,eight,155,4750,16,18,34184\n",
      "mercedes-benz,gas,std,two,convertible,rwd,eight,155,4750,16,18,35056\n",
      "jaguar,gas,std,four,sedan,rwd,six,176,4750,15,19,35550\n",
      "jaguar,gas,std,two,sedan,rwd,twelve,262,5000,13,17,36000\n",
      "bmw,gas,std,four,sedan,rwd,six,182,5400,15,20,36880\n",
      "porsche,gas,std,two,convertible,rwd,six,207,5900,17,25,37028\n",
      "mercedes-benz,gas,std,four,sedan,rwd,eight,184,4500,14,16,40960\n",
      "bmw,gas,std,two,sedan,rwd,six,182,5400,16,22,41315\n",
      "mercedes-benz,gas,std,two,hardtop,rwd,eight,184,4500,14,16,45400\n"
     ]
    }
   ],
   "source": [
    "for line in newRDD1.collect():\n",
    "    print(line)"
   ]
  },
  {
   "cell_type": "markdown",
   "metadata": {},
   "source": [
    "### Saving data to the local file"
   ]
  },
  {
   "cell_type": "code",
   "execution_count": 11,
   "metadata": {},
   "outputs": [],
   "source": [
    "autoDataFile = open(\"auto-data-saved.csv\", \"w\")"
   ]
  },
  {
   "cell_type": "code",
   "execution_count": 12,
   "metadata": {},
   "outputs": [
    {
     "data": {
      "text/plain": [
       "11350"
      ]
     },
     "execution_count": 12,
     "metadata": {},
     "output_type": "execute_result"
    }
   ],
   "source": [
    "autoDataFile.write(\"\\n\".join(newRDD1.collect()))"
   ]
  },
  {
   "cell_type": "code",
   "execution_count": 13,
   "metadata": {},
   "outputs": [],
   "source": [
    "autoDataFile.close()"
   ]
  },
  {
   "cell_type": "markdown",
   "metadata": {},
   "source": [
    "### Transformations"
   ]
  },
  {
   "cell_type": "code",
   "execution_count": null,
   "metadata": {},
   "outputs": [],
   "source": [
    "# replacing every , with a tab space\n",
    "tsvData = newRDD1.map(lambda x: x.replace(\",\",\"\\t\"))\n"
   ]
  },
  {
   "cell_type": "code",
   "execution_count": null,
   "metadata": {},
   "outputs": [],
   "source": [
    "tsvData.take(5)"
   ]
  },
  {
   "cell_type": "code",
   "execution_count": null,
   "metadata": {},
   "outputs": [],
   "source": []
  },
  {
   "cell_type": "code",
   "execution_count": null,
   "metadata": {},
   "outputs": [],
   "source": []
  },
  {
   "cell_type": "code",
   "execution_count": null,
   "metadata": {},
   "outputs": [],
   "source": []
  },
  {
   "cell_type": "code",
   "execution_count": null,
   "metadata": {},
   "outputs": [],
   "source": []
  },
  {
   "cell_type": "code",
   "execution_count": null,
   "metadata": {},
   "outputs": [],
   "source": []
  },
  {
   "cell_type": "code",
   "execution_count": null,
   "metadata": {},
   "outputs": [],
   "source": []
  },
  {
   "cell_type": "code",
   "execution_count": null,
   "metadata": {},
   "outputs": [],
   "source": []
  },
  {
   "cell_type": "code",
   "execution_count": null,
   "metadata": {},
   "outputs": [],
   "source": []
  },
  {
   "cell_type": "code",
   "execution_count": null,
   "metadata": {},
   "outputs": [],
   "source": []
  },
  {
   "cell_type": "code",
   "execution_count": 5,
   "metadata": {},
   "outputs": [],
   "source": [
    "# spark = SparkSession \\\n",
    "#     .builder \\\n",
    "#     .appName(\"Python Spark SQL basic example\") \\\n",
    "#     .config(\"spark.some.config.option\", \"some-value\") \\\n",
    "#     .getOrCreate()"
   ]
  },
  {
   "cell_type": "code",
   "execution_count": 7,
   "metadata": {},
   "outputs": [
    {
     "ename": "SyntaxError",
     "evalue": "invalid syntax (<ipython-input-7-939bbb97c795>, line 1)",
     "output_type": "error",
     "traceback": [
      "\u001b[1;36m  File \u001b[1;32m\"<ipython-input-7-939bbb97c795>\"\u001b[1;36m, line \u001b[1;32m1\u001b[0m\n\u001b[1;33m    spark.\u001b[0m\n\u001b[1;37m          ^\u001b[0m\n\u001b[1;31mSyntaxError\u001b[0m\u001b[1;31m:\u001b[0m invalid syntax\n"
     ]
    }
   ],
   "source": []
  },
  {
   "cell_type": "code",
   "execution_count": 11,
   "metadata": {},
   "outputs": [
    {
     "ename": "IllegalArgumentException",
     "evalue": "\"requirement failed: The number of columns doesn't match.\\nOld column names (1): id\\nNew column names (0): \"",
     "output_type": "error",
     "traceback": [
      "\u001b[1;31m---------------------------------------------------------------------------\u001b[0m",
      "\u001b[1;31mPy4JJavaError\u001b[0m                             Traceback (most recent call last)",
      "\u001b[1;32mC:\\Spark\\spark-2.4.6-bin-hadoop2.6\\python\\pyspark\\sql\\utils.py\u001b[0m in \u001b[0;36mdeco\u001b[1;34m(*a, **kw)\u001b[0m\n\u001b[0;32m     62\u001b[0m         \u001b[1;32mtry\u001b[0m\u001b[1;33m:\u001b[0m\u001b[1;33m\u001b[0m\u001b[1;33m\u001b[0m\u001b[0m\n\u001b[1;32m---> 63\u001b[1;33m             \u001b[1;32mreturn\u001b[0m \u001b[0mf\u001b[0m\u001b[1;33m(\u001b[0m\u001b[1;33m*\u001b[0m\u001b[0ma\u001b[0m\u001b[1;33m,\u001b[0m \u001b[1;33m**\u001b[0m\u001b[0mkw\u001b[0m\u001b[1;33m)\u001b[0m\u001b[1;33m\u001b[0m\u001b[1;33m\u001b[0m\u001b[0m\n\u001b[0m\u001b[0;32m     64\u001b[0m         \u001b[1;32mexcept\u001b[0m \u001b[0mpy4j\u001b[0m\u001b[1;33m.\u001b[0m\u001b[0mprotocol\u001b[0m\u001b[1;33m.\u001b[0m\u001b[0mPy4JJavaError\u001b[0m \u001b[1;32mas\u001b[0m \u001b[0me\u001b[0m\u001b[1;33m:\u001b[0m\u001b[1;33m\u001b[0m\u001b[1;33m\u001b[0m\u001b[0m\n",
      "\u001b[1;32mC:\\Spark\\spark-2.4.6-bin-hadoop2.6\\python\\lib\\py4j-0.10.7-src.zip\\py4j\\protocol.py\u001b[0m in \u001b[0;36mget_return_value\u001b[1;34m(answer, gateway_client, target_id, name)\u001b[0m\n\u001b[0;32m    327\u001b[0m                     \u001b[1;34m\"An error occurred while calling {0}{1}{2}.\\n\"\u001b[0m\u001b[1;33m.\u001b[0m\u001b[1;33m\u001b[0m\u001b[1;33m\u001b[0m\u001b[0m\n\u001b[1;32m--> 328\u001b[1;33m                     format(target_id, \".\", name), value)\n\u001b[0m\u001b[0;32m    329\u001b[0m             \u001b[1;32melse\u001b[0m\u001b[1;33m:\u001b[0m\u001b[1;33m\u001b[0m\u001b[1;33m\u001b[0m\u001b[0m\n",
      "\u001b[1;31mPy4JJavaError\u001b[0m: An error occurred while calling o79.toDF.\n: java.lang.IllegalArgumentException: requirement failed: The number of columns doesn't match.\nOld column names (1): id\nNew column names (0): \r\n\tat scala.Predef$.require(Predef.scala:224)\r\n\tat org.apache.spark.sql.Dataset.toDF(Dataset.scala:447)\r\n\tat sun.reflect.NativeMethodAccessorImpl.invoke0(Native Method)\r\n\tat sun.reflect.NativeMethodAccessorImpl.invoke(NativeMethodAccessorImpl.java:62)\r\n\tat sun.reflect.DelegatingMethodAccessorImpl.invoke(DelegatingMethodAccessorImpl.java:43)\r\n\tat java.lang.reflect.Method.invoke(Method.java:498)\r\n\tat py4j.reflection.MethodInvoker.invoke(MethodInvoker.java:244)\r\n\tat py4j.reflection.ReflectionEngine.invoke(ReflectionEngine.java:357)\r\n\tat py4j.Gateway.invoke(Gateway.java:282)\r\n\tat py4j.commands.AbstractCommand.invokeMethod(AbstractCommand.java:132)\r\n\tat py4j.commands.CallCommand.execute(CallCommand.java:79)\r\n\tat py4j.GatewayConnection.run(GatewayConnection.java:238)\r\n\tat java.lang.Thread.run(Thread.java:748)\r\n",
      "\nDuring handling of the above exception, another exception occurred:\n",
      "\u001b[1;31mIllegalArgumentException\u001b[0m                  Traceback (most recent call last)",
      "\u001b[1;32m<ipython-input-11-36d855f045df>\u001b[0m in \u001b[0;36m<module>\u001b[1;34m\u001b[0m\n\u001b[1;32m----> 1\u001b[1;33m \u001b[0mrdd\u001b[0m \u001b[1;33m=\u001b[0m \u001b[0mspark\u001b[0m\u001b[1;33m.\u001b[0m\u001b[0mrange\u001b[0m\u001b[1;33m(\u001b[0m\u001b[1;36m0\u001b[0m\u001b[1;33m,\u001b[0m\u001b[1;36m100\u001b[0m\u001b[1;33m)\u001b[0m\u001b[1;33m.\u001b[0m\u001b[0mtoDF\u001b[0m\u001b[1;33m(\u001b[0m\u001b[1;33m)\u001b[0m\u001b[1;33m\u001b[0m\u001b[1;33m\u001b[0m\u001b[0m\n\u001b[0m",
      "\u001b[1;32mC:\\Spark\\spark-2.4.6-bin-hadoop2.6\\python\\pyspark\\sql\\dataframe.py\u001b[0m in \u001b[0;36mtoDF\u001b[1;34m(self, *cols)\u001b[0m\n\u001b[0;32m   2061\u001b[0m         \u001b[1;33m[\u001b[0m\u001b[0mRow\u001b[0m\u001b[1;33m(\u001b[0m\u001b[0mf1\u001b[0m\u001b[1;33m=\u001b[0m\u001b[1;36m2\u001b[0m\u001b[1;33m,\u001b[0m \u001b[0mf2\u001b[0m\u001b[1;33m=\u001b[0m\u001b[1;34mu'Alice'\u001b[0m\u001b[1;33m)\u001b[0m\u001b[1;33m,\u001b[0m \u001b[0mRow\u001b[0m\u001b[1;33m(\u001b[0m\u001b[0mf1\u001b[0m\u001b[1;33m=\u001b[0m\u001b[1;36m5\u001b[0m\u001b[1;33m,\u001b[0m \u001b[0mf2\u001b[0m\u001b[1;33m=\u001b[0m\u001b[1;34mu'Bob'\u001b[0m\u001b[1;33m)\u001b[0m\u001b[1;33m]\u001b[0m\u001b[1;33m\u001b[0m\u001b[1;33m\u001b[0m\u001b[0m\n\u001b[0;32m   2062\u001b[0m         \"\"\"\n\u001b[1;32m-> 2063\u001b[1;33m         \u001b[0mjdf\u001b[0m \u001b[1;33m=\u001b[0m \u001b[0mself\u001b[0m\u001b[1;33m.\u001b[0m\u001b[0m_jdf\u001b[0m\u001b[1;33m.\u001b[0m\u001b[0mtoDF\u001b[0m\u001b[1;33m(\u001b[0m\u001b[0mself\u001b[0m\u001b[1;33m.\u001b[0m\u001b[0m_jseq\u001b[0m\u001b[1;33m(\u001b[0m\u001b[0mcols\u001b[0m\u001b[1;33m)\u001b[0m\u001b[1;33m)\u001b[0m\u001b[1;33m\u001b[0m\u001b[1;33m\u001b[0m\u001b[0m\n\u001b[0m\u001b[0;32m   2064\u001b[0m         \u001b[1;32mreturn\u001b[0m \u001b[0mDataFrame\u001b[0m\u001b[1;33m(\u001b[0m\u001b[0mjdf\u001b[0m\u001b[1;33m,\u001b[0m \u001b[0mself\u001b[0m\u001b[1;33m.\u001b[0m\u001b[0msql_ctx\u001b[0m\u001b[1;33m)\u001b[0m\u001b[1;33m\u001b[0m\u001b[1;33m\u001b[0m\u001b[0m\n\u001b[0;32m   2065\u001b[0m \u001b[1;33m\u001b[0m\u001b[0m\n",
      "\u001b[1;32mC:\\Spark\\spark-2.4.6-bin-hadoop2.6\\python\\lib\\py4j-0.10.7-src.zip\\py4j\\java_gateway.py\u001b[0m in \u001b[0;36m__call__\u001b[1;34m(self, *args)\u001b[0m\n\u001b[0;32m   1255\u001b[0m         \u001b[0manswer\u001b[0m \u001b[1;33m=\u001b[0m \u001b[0mself\u001b[0m\u001b[1;33m.\u001b[0m\u001b[0mgateway_client\u001b[0m\u001b[1;33m.\u001b[0m\u001b[0msend_command\u001b[0m\u001b[1;33m(\u001b[0m\u001b[0mcommand\u001b[0m\u001b[1;33m)\u001b[0m\u001b[1;33m\u001b[0m\u001b[1;33m\u001b[0m\u001b[0m\n\u001b[0;32m   1256\u001b[0m         return_value = get_return_value(\n\u001b[1;32m-> 1257\u001b[1;33m             answer, self.gateway_client, self.target_id, self.name)\n\u001b[0m\u001b[0;32m   1258\u001b[0m \u001b[1;33m\u001b[0m\u001b[0m\n\u001b[0;32m   1259\u001b[0m         \u001b[1;32mfor\u001b[0m \u001b[0mtemp_arg\u001b[0m \u001b[1;32min\u001b[0m \u001b[0mtemp_args\u001b[0m\u001b[1;33m:\u001b[0m\u001b[1;33m\u001b[0m\u001b[1;33m\u001b[0m\u001b[0m\n",
      "\u001b[1;32mC:\\Spark\\spark-2.4.6-bin-hadoop2.6\\python\\pyspark\\sql\\utils.py\u001b[0m in \u001b[0;36mdeco\u001b[1;34m(*a, **kw)\u001b[0m\n\u001b[0;32m     77\u001b[0m                 \u001b[1;32mraise\u001b[0m \u001b[0mQueryExecutionException\u001b[0m\u001b[1;33m(\u001b[0m\u001b[0ms\u001b[0m\u001b[1;33m.\u001b[0m\u001b[0msplit\u001b[0m\u001b[1;33m(\u001b[0m\u001b[1;34m': '\u001b[0m\u001b[1;33m,\u001b[0m \u001b[1;36m1\u001b[0m\u001b[1;33m)\u001b[0m\u001b[1;33m[\u001b[0m\u001b[1;36m1\u001b[0m\u001b[1;33m]\u001b[0m\u001b[1;33m,\u001b[0m \u001b[0mstackTrace\u001b[0m\u001b[1;33m)\u001b[0m\u001b[1;33m\u001b[0m\u001b[1;33m\u001b[0m\u001b[0m\n\u001b[0;32m     78\u001b[0m             \u001b[1;32mif\u001b[0m \u001b[0ms\u001b[0m\u001b[1;33m.\u001b[0m\u001b[0mstartswith\u001b[0m\u001b[1;33m(\u001b[0m\u001b[1;34m'java.lang.IllegalArgumentException: '\u001b[0m\u001b[1;33m)\u001b[0m\u001b[1;33m:\u001b[0m\u001b[1;33m\u001b[0m\u001b[1;33m\u001b[0m\u001b[0m\n\u001b[1;32m---> 79\u001b[1;33m                 \u001b[1;32mraise\u001b[0m \u001b[0mIllegalArgumentException\u001b[0m\u001b[1;33m(\u001b[0m\u001b[0ms\u001b[0m\u001b[1;33m.\u001b[0m\u001b[0msplit\u001b[0m\u001b[1;33m(\u001b[0m\u001b[1;34m': '\u001b[0m\u001b[1;33m,\u001b[0m \u001b[1;36m1\u001b[0m\u001b[1;33m)\u001b[0m\u001b[1;33m[\u001b[0m\u001b[1;36m1\u001b[0m\u001b[1;33m]\u001b[0m\u001b[1;33m,\u001b[0m \u001b[0mstackTrace\u001b[0m\u001b[1;33m)\u001b[0m\u001b[1;33m\u001b[0m\u001b[1;33m\u001b[0m\u001b[0m\n\u001b[0m\u001b[0;32m     80\u001b[0m             \u001b[1;32mraise\u001b[0m\u001b[1;33m\u001b[0m\u001b[1;33m\u001b[0m\u001b[0m\n\u001b[0;32m     81\u001b[0m     \u001b[1;32mreturn\u001b[0m \u001b[0mdeco\u001b[0m\u001b[1;33m\u001b[0m\u001b[1;33m\u001b[0m\u001b[0m\n",
      "\u001b[1;31mIllegalArgumentException\u001b[0m: \"requirement failed: The number of columns doesn't match.\\nOld column names (1): id\\nNew column names (0): \""
     ]
    }
   ],
   "source": [
    "rdd = spark.range(0,100).toDF()"
   ]
  },
  {
   "cell_type": "code",
   "execution_count": null,
   "metadata": {},
   "outputs": [],
   "source": []
  }
 ],
 "metadata": {
  "kernelspec": {
   "display_name": "Python 3",
   "language": "python",
   "name": "python3"
  },
  "language_info": {
   "codemirror_mode": {
    "name": "ipython",
    "version": 3
   },
   "file_extension": ".py",
   "mimetype": "text/x-python",
   "name": "python",
   "nbconvert_exporter": "python",
   "pygments_lexer": "ipython3",
   "version": "3.7.3"
  }
 },
 "nbformat": 4,
 "nbformat_minor": 2
}
